{
  "cells": [
    {
      "cell_type": "code",
      "execution_count": 1,
      "id": "0e7c55ed-48d3-4eac-b3d0-fac75930b175",
      "metadata": {
        "trusted": true
      },
      "outputs": [],
      "source": [
        "import re\n",
        "import pandas as pd\n",
        "from random import shuffle\n",
        "from math import exp, log\n",
        "from collections import defaultdict, Counter\n",
        "from typing import NamedTuple, List, Set, Tuple"
      ]
    },
    {
      "cell_type": "code",
      "execution_count": 2,
      "id": "8fb67c15-7ac6-40a9-8900-8e479dcb320c",
      "metadata": {
        "trusted": true
      },
      "outputs": [],
      "source": [
        "class Message(NamedTuple):\n",
        "    text: str\n",
        "    is_spam: bool"
      ]
    },
    {
      "cell_type": "code",
      "execution_count": 3,
      "id": "3e843c62-3720-4ed1-be06-1d068e736d54",
      "metadata": {
        "trusted": true
      },
      "outputs": [],
      "source": [
        "csv_path = \"spam.csv\"\n",
        "dataFrame = pd.read_csv(csv_path, encoding = \"latin-1\",)[[\"label\", \"message\"]]\n",
        "dataFrame.rename(columns = {\"label\": \"is_spam\", \"message\": \"text\"}, inplace = True)\n",
        "\n",
        "dataFrame[\"is_spam\"] =  dataFrame[\"is_spam\"].map({\"spam\": True, \"ham\": False}) #Converting spam/ham to boolean\n",
        "messages: List[Message] = [Message(text = row[\"text\"], is_spam = row[\"is_spam\"]) for _, row in dataFrame.iterrows()]"
      ]
    },
    {
      "cell_type": "code",
      "execution_count": 4,
      "id": "e50db119-c333-4096-87a3-06e4bb4b1dd0",
      "metadata": {
        "trusted": true
      },
      "outputs": [
        {
          "data": {
            "text/plain": [
              "5572"
            ]
          },
          "execution_count": 4,
          "metadata": {},
          "output_type": "execute_result"
        }
      ],
      "source": [
        "shuffle(messages)\n",
        "len(messages)"
      ]
    },
    {
      "cell_type": "code",
      "execution_count": 5,
      "id": "81fdd7ae-bb34-4e34-861e-80a2cba3dffa",
      "metadata": {
        "trusted": true
      },
      "outputs": [],
      "source": [
        "def token(text: str) -> Set[str]:\n",
        "    words: List[str] = []\n",
        "    for word in re.findall(r\"[A-Za-z0-9\\']+\", text):\n",
        "        if len(word) >= 2:\n",
        "            words.append(word.lower())\n",
        "    return set(words)"
      ]
    },
    {
      "cell_type": "code",
      "execution_count": 6,
      "id": "2709c49d-754f-41d0-913d-7557e571f24c",
      "metadata": {
        "trusted": true
      },
      "outputs": [],
      "source": [
        "assert token(\"This is a text that will be tokenized, what if it doesn't get tokenized?\") == {'this','is','text', 'that', 'will', 'be', 'tokenized', 'what', 'if', 'it', \"doesn't\", 'get'}"
      ]
    },
    {
      "cell_type": "code",
      "execution_count": 7,
      "id": "ac00978b-74d9-49ec-ab1b-924f56be28c8",
      "metadata": {
        "trusted": true
      },
      "outputs": [
        {
          "data": {
            "text/plain": [
              "{'and',\n",
              " 'around',\n",
              " 'be',\n",
              " 'constantly',\n",
              " 'do',\n",
              " 'doing',\n",
              " \"don't\",\n",
              " 'ear',\n",
              " 'go',\n",
              " 'going',\n",
              " \"i'm\",\n",
              " 'in',\n",
              " 'is',\n",
              " \"it's\",\n",
              " 'julianaland',\n",
              " 'know',\n",
              " 'listen',\n",
              " 'mad',\n",
              " 'me',\n",
              " 'not',\n",
              " 'oblivious',\n",
              " 'off',\n",
              " 'on',\n",
              " 'one',\n",
              " 'other',\n",
              " 'out',\n",
              " 'problem',\n",
              " 'same',\n",
              " 'say',\n",
              " 'surprised',\n",
              " 'tell',\n",
              " 'that',\n",
              " 'the',\n",
              " 'then',\n",
              " 'they',\n",
              " 'things',\n",
              " 'to',\n",
              " 'upset',\n",
              " 'walk',\n",
              " 'want',\n",
              " 'what',\n",
              " 'whatever',\n",
              " 'when',\n",
              " 'while',\n",
              " 'why',\n",
              " 'you'}"
            ]
          },
          "execution_count": 7,
          "metadata": {},
          "output_type": "execute_result"
        }
      ],
      "source": [
        "token(messages[0].text)"
      ]
    },
    {
      "cell_type": "code",
      "execution_count": 8,
      "id": "3f0d409b-03d6-4df3-b9c8-5ef78f724ee8",
      "metadata": {
        "trusted": true
      },
      "outputs": [],
      "source": [
        "def dataset_split(messages: List[Message], pct = 0.8) -> Tuple[List[Message], List[Message]]:\n",
        "    shuffle(messages)\n",
        "    train = int(round(len(messages) * pct, 0))\n",
        "    return messages[:train], messages[train:]"
      ]
    },
    {
      "cell_type": "code",
      "execution_count": 9,
      "id": "2287ff1a-3018-4cb7-af2c-8e5b0e25dbb6",
      "metadata": {
        "trusted": true
      },
      "outputs": [],
      "source": [
        "assert len(dataset_split(messages)[0]) + len(dataset_split(messages)[1]) == len(messages)"
      ]
    },
    {
      "cell_type": "code",
      "execution_count": 10,
      "id": "a8af5c69-f17e-4149-964f-da1e53893ae4",
      "metadata": {
        "trusted": true
      },
      "outputs": [],
      "source": [
        "class NaiveBayes:\n",
        "    def __init__(self, k = 1) -> None:\n",
        "        self._k: int = k\n",
        "        self._num_spam_messages: int = 0\n",
        "        self._num_ham_messages: int = 0\n",
        "        self._num_words_spam: Dict[str, int] = defaultdict(int)\n",
        "        self._num_words_ham: Dict[str, int] = defaultdict(int)\n",
        "        self._spam_words: Set[str] = set()\n",
        "        self._ham_words: Set[str] = set()\n",
        "        self._words: Set[str] = set()\n",
        "\n",
        "    def train(self, messages: List[Message]) -> None:\n",
        "        message: Message\n",
        "        tok: str\n",
        "        for message in messages:\n",
        "            tokens: Set[str] = token(message.text)\n",
        "            self._words.update(tokens)\n",
        "            if message.is_spam:\n",
        "                self._num_spam_messages += 1\n",
        "                self._spam_words.update(tokens)\n",
        "                for tok in tokens:\n",
        "                    self._num_words_spam[tok] += 1\n",
        "\n",
        "            else:\n",
        "                self._num_ham_messages += 1\n",
        "                self._ham_words.update(tokens)\n",
        "                for tok in tokens:\n",
        "                    self._num_words_ham[tok] += 1\n",
        "\n",
        "\n",
        "    def _spam(self, word: str) -> float:\n",
        "        return (self._k + self._num_words_spam[word]) / ((2* self._k) + (self._num_spam_messages))\n",
        "\n",
        "    def _ham(self, word: str) -> float:\n",
        "        return (self._k + self._num_words_ham[word]) / ((2* self._k) + (self._num_ham_messages))\n",
        "\n",
        "    def predict(self, text: str) -> float:\n",
        "        text_words: Set[str] = token(text)\n",
        "        log_spam: float = 0.0\n",
        "        log_ham: float = 0.0\n",
        "        epsilon = 1e-10\n",
        "\n",
        "        for word in self._words:\n",
        "            word_spam: float = self._spam(word)\n",
        "            word_ham: float = self._ham(word)\n",
        "            if word in text_words:\n",
        "                log_spam += log(max(word_spam, epsilon))\n",
        "                log_ham += log(max(word_ham, epsilon))\n",
        "            else:\n",
        "                log_spam += log(max(1 - word_spam, epsilon))\n",
        "                log_ham += log(max(1 - word_ham, epsilon))\n",
        "\n",
        "        word_if_spam: float = exp(log_spam)\n",
        "        word_if_ham: float = exp(log_ham)\n",
        "        return word_if_spam / (word_if_spam + word_if_ham)\n",
        "        \n",
        "    "
      ]
    },
    {
      "cell_type": "code",
      "execution_count": 11,
      "id": "672f60c8-dd96-46a3-ab36-1300862ae3b8",
      "metadata": {
        "trusted": true
      },
      "outputs": [],
      "source": [
        "def test_naive_bayes():\n",
        "    messages: List[Message] = [\n",
        "        Message('Spam message', is_spam=True),\n",
        "        Message('Ham message', is_spam=False),\n",
        "        Message('Ham message about Spam', is_spam=False)]\n",
        "    \n",
        "    nb: NaiveBayes = NaiveBayes()\n",
        "    nb.train(messages)\n",
        "    \n",
        "    assert nb._num_spam_messages == 1\n",
        "    assert nb._num_ham_messages == 2\n",
        "    assert nb._spam_words == {'spam', 'message'}\n",
        "    assert nb._ham_words == {'ham', 'message', 'about', 'spam'}\n",
        "    assert nb._num_words_spam == {'spam': 1, 'message': 1}\n",
        "    assert nb._num_words_ham == {'ham': 2, 'message': 2, 'about': 1, 'spam': 1}\n",
        "    assert nb._words == {'spam', 'message', 'ham', 'about'}\n",
        "\n",
        "    \n",
        "    text: str = 'A spam message'\n",
        "    \n",
        "    \n",
        "    word_if_spam: float = exp(sum([\n",
        "        log(     (1 + 1) / ((2 * 1) + 1)),  \n",
        "        log(     (1 + 1) / ((2 * 1) + 1)),  \n",
        "        log(1 - ((1 + 0) / ((2 * 1) + 1))), \n",
        "        log(1 - ((1 + 0) / ((2 * 1) + 1))), \n",
        "    ]))\n",
        "    \n",
        "   \n",
        "    word_if_ham: float = exp(sum([\n",
        "        log(     (1 + 1)  / ((2 * 1) + 2)),  \n",
        "        log(     (1 + 2)  / ((2 * 1) + 2)),  \n",
        "        log(1 - ((1 + 2)  / ((2 * 1) + 2))), \n",
        "        log(1 - ((1 + 1)  / ((2 * 1) + 2))),\n",
        "    ]))\n",
        "    \n",
        "    word_spam: float = word_if_spam / (word_if_spam + word_if_ham)\n",
        "    \n",
        "    assert word_spam == nb.predict(text)\n",
        "\n",
        "test_naive_bayes()"
      ]
    },
    {
      "cell_type": "code",
      "execution_count": 12,
      "id": "3defc6c6-e52b-4b51-8af8-b9a63919a459",
      "metadata": {
        "trusted": true
      },
      "outputs": [],
      "source": [
        "train: List[Message]\n",
        "test: List[Message]\n",
        "\n",
        "train, test = dataset_split(messages)"
      ]
    },
    {
      "cell_type": "code",
      "execution_count": 13,
      "id": "ff32e940-3a42-473c-9368-f448a63c4e26",
      "metadata": {
        "trusted": true
      },
      "outputs": [
        {
          "name": "stdout",
          "output_type": "stream",
          "text": [
            "Spam messages in training data: 589\n",
            "Ham messages in training data: 3869\n",
            "Most spammy words: [('to', 357), ('call', 275), ('your', 192), ('you', 191), ('now', 146), ('or', 139), ('for', 138), ('free', 136), ('the', 119), ('is', 112), ('txt', 108), ('from', 105), ('have', 98), ('mobile', 94), ('on', 94), ('with', 90), ('claim', 85), ('and', 85), ('text', 84), ('ur', 80), ('stop', 79), ('www', 76), ('reply', 75), ('of', 68), ('only', 68)]\n"
          ]
        }
      ],
      "source": [
        "nb: NaiveBayes = NaiveBayes()\n",
        "nb.train(train)\n",
        "\n",
        "print(f'Spam messages in training data: {nb._num_spam_messages}')\n",
        "print(f'Ham messages in training data: {nb._num_ham_messages}')\n",
        "print(f'Most spammy words: {Counter(nb._num_words_spam).most_common(25)}')"
      ]
    },
    {
      "cell_type": "code",
      "execution_count": 14,
      "id": "d5902774-940a-4070-80cd-3a119f215ec0",
      "metadata": {
        "trusted": true
      },
      "outputs": [
        {
          "data": {
            "text/plain": [
              "[Message(text='Sunshine Quiz Wkly Q! Win a top Sony DVD player if u know which country the Algarve is in? Txt ansr to 82277. ï¿½1.50 SP:Tyrone', is_spam=True),\n",
              " Message(text='Get your garden ready for summer with a FREE selection of summer bulbs and seeds worth ï¿½33:50 only with The Scotsman this Saturday. To stop go2 notxt.co.uk', is_spam=True),\n",
              " Message(text=\"Free entry in 2 a weekly comp for a chance to win an ipod. Txt POD to 80182 to get entry (std txt rate) T&C's apply 08452810073 for details 18+\", is_spam=True),\n",
              " Message(text='We tried to contact you re your reply to our offer of a Video Phone 750 anytime any network mins Half Price Line Rental Camcorder Reply or call 08000930705', is_spam=True),\n",
              " Message(text=\"UpgrdCentre Orange customer, you may now claim your FREE CAMERA PHONE upgrade for your loyalty. Call now on 0207 153 9153. Offer ends 26th July. T&C's apply. Opt-out available\", is_spam=True)]"
            ]
          },
          "execution_count": 14,
          "metadata": {},
          "output_type": "execute_result"
        }
      ],
      "source": [
        "spam_messages: List[Message] = [item for item in test if item.is_spam]\n",
        "spam_messages[:5]"
      ]
    },
    {
      "cell_type": "code",
      "execution_count": 21,
      "id": "4e1b65f7-3186-421b-ab52-aa14f24931ff",
      "metadata": {
        "trusted": true
      },
      "outputs": [
        {
          "name": "stdout",
          "output_type": "stream",
          "text": [
            "Predicting likelihood of \"network operator. The service is free. For T & C's visit 80488.biz\" being spam.\n"
          ]
        },
        {
          "data": {
            "text/plain": [
              "0.9997157312280469"
            ]
          },
          "execution_count": 21,
          "metadata": {},
          "output_type": "execute_result"
        }
      ],
      "source": [
        "message: str = spam_messages[5].text\n",
        "    \n",
        "print(f'Predicting likelihood of \"{message}\" being spam.')\n",
        "nb.predict(message)"
      ]
    },
    {
      "cell_type": "code",
      "execution_count": 16,
      "id": "f6fb8e16-3d93-49d5-acfc-008ed73945b9",
      "metadata": {
        "trusted": true
      },
      "outputs": [
        {
          "data": {
            "text/plain": [
              "[Message(text='And do you have any one that can teach me how to ship cars.', is_spam=False),\n",
              " Message(text='S.i think he is waste for rr..', is_spam=False),\n",
              " Message(text='Daddy will take good care of you :)', is_spam=False),\n",
              " Message(text='Can you do online transaction?', is_spam=False),\n",
              " Message(text='Hmmm:)how many players selected?', is_spam=False)]"
            ]
          },
          "execution_count": 16,
          "metadata": {},
          "output_type": "execute_result"
        }
      ],
      "source": [
        "ham_messages: List[Message] = [item for item in test if not item.is_spam]\n",
        "ham_messages[:5]"
      ]
    },
    {
      "cell_type": "code",
      "execution_count": 20,
      "id": "f58f03b7-23c5-48ef-95d9-906b41e66959",
      "metadata": {
        "trusted": true
      },
      "outputs": [
        {
          "name": "stdout",
          "output_type": "stream",
          "text": [
            "Predicting likelihood of \"Probably gonna swing by in a wee bit\" being spam.\n"
          ]
        },
        {
          "data": {
            "text/plain": [
              "2.9994202226382373e-12"
            ]
          },
          "execution_count": 20,
          "metadata": {},
          "output_type": "execute_result"
        }
      ],
      "source": [
        "message: str = ham_messages[5].text\n",
        "\n",
        "print(f'Predicting likelihood of \"{message}\" being spam.')\n",
        "nb.predict(message)"
      ]
    },
    {
      "cell_type": "code",
      "execution_count": null,
      "id": "c1294f86",
      "metadata": {},
      "outputs": [],
      "source": []
    }
  ],
  "metadata": {
    "kernelspec": {
      "display_name": "Python (Pyodide)",
      "language": "python",
      "name": "python"
    },
    "language_info": {
      "codemirror_mode": {
        "name": "python",
        "version": 3
      },
      "file_extension": ".py",
      "mimetype": "text/x-python",
      "name": "python",
      "nbconvert_exporter": "python",
      "pygments_lexer": "ipython3",
      "version": "3.8"
    }
  },
  "nbformat": 4,
  "nbformat_minor": 5
}
